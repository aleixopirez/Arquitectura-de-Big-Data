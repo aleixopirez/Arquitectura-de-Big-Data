{
  "nbformat": 4,
  "nbformat_minor": 0,
  "metadata": {
    "colab": {
      "provenance": [],
      "authorship_tag": "ABX9TyNzmGNi8fbQlZe0Ja0q8gas",
      "include_colab_link": true
    },
    "kernelspec": {
      "name": "python3",
      "display_name": "Python 3"
    },
    "language_info": {
      "name": "python"
    }
  },
  "cells": [
    {
      "cell_type": "markdown",
      "metadata": {
        "id": "view-in-github",
        "colab_type": "text"
      },
      "source": [
        "<a href=\"https://colab.research.google.com/github/aleixopirez/Arquitectura-de-Big-Data/blob/main/Seguimiento_1_.ipynb\" target=\"_parent\"><img src=\"https://colab.research.google.com/assets/colab-badge.svg\" alt=\"Open In Colab\"/></a>"
      ]
    },
    {
      "cell_type": "markdown",
      "source": [
        "ARQUITECTURA EN BIG DATA\n",
        "SEGUIMIENTO No.1\n",
        "Aleixo Eder Pineda Ramirez\n",
        "1. Un mensaje anónimo les dice lo siguiente:\n",
        "010000100110100101100101011011100111011001100101011011100110100101100100011011110\n",
        "111001100100000011000010110110000100000011011010111010101101110011001000110111100\n",
        "10000001100100011010010110011101101001011101000110000101101100\n",
        "Traduzca el código binario de 8-bits a español y responda con un “Hola mundo” en binario y reporte\n",
        "el peso de este mensaje en bytes."
      ],
      "metadata": {
        "id": "BFX-Qih4wqOU"
      }
    },
    {
      "cell_type": "code",
      "source": [
        "Mensaje_binario = '''010000100110100101100101011011100111011001100101011011100110100101100100011011110\n",
        "111001100100000011000010110110000100000011011010111010101101110011001000110111100\n",
        "10000001100100011010010110011101101001011101000110000101101100'''\n",
        "\n",
        "# Eliminar cualquier carácter que no sea '0' o '1' del mensaje binario\n",
        "Mensaje_binario = ''.join(bit for bit in Mensaje_binario if bit in ('0', '1'))\n",
        "\n",
        "# Dividir el mensaje binario en grupos de 8 bits (bytes)\n",
        "bytes_list = [Mensaje_binario[i:i+8] for i in range(0, len(Mensaje_binario), 8)]\n",
        "\n",
        "# Convertir cada byte binario a ASCII\n",
        "Mensaje_string = ''.join(chr(int(byte, 2)) for byte in bytes_list)\n",
        "print(\"Mensaje Anónimo :\", Mensaje_string)\n",
        "print(\"Respuesta Hola mundo en binario :\")\n",
        "\n",
        "# Calcular el peso del mensaje\n",
        "peso_bytes = len(Mensaje_string)\n",
        "\n",
        "Respoder = \"Hola mundo\"\n",
        "\n",
        "for letra in string:\n",
        "    print(format(ord(letra), \"08b\"), end='')\n",
        "\n",
        "# Imprimir el peso del mensaje\n",
        "print(\" Peso del mensaje en bytes:\", peso_bytes)\n",
        "print(\"Mensaje enviado exitosamente\")\n"
      ],
      "metadata": {
        "colab": {
          "base_uri": "https://localhost:8080/"
        },
        "id": "iKiXO8eXC26d",
        "outputId": "002aff61-dbde-40da-8377-ae9bce3e5c61"
      },
      "execution_count": null,
      "outputs": [
        {
          "output_type": "stream",
          "name": "stdout",
          "text": [
            "Mensaje Anónimo : Bienvenidos al mundo digital\n",
            "Respuesta Hola mundo en binario :\n",
            "01001000011011110110110001100001001000000110110101110101011011100110010001101111 Peso del mensaje en bytes: 28\n",
            "Mensaje enviado exitosamente\n"
          ]
        }
      ]
    },
    {
      "cell_type": "markdown",
      "source": [
        "2. Paralelice el vector [3, 5, 1, 6, 9, 12, 15, 21, 5, 3, 6, 9, 8, 7, 7, 1, 13] y usando una RDD calcule la media del vector.\n",
        "zSugerencia: Use las funciones map() y reduce() para calcular la suma de los valores del vector y la cantidad de datos que esta suma contiene."
      ],
      "metadata": {
        "id": "E__F3hQY-IPc"
      }
    },
    {
      "cell_type": "code",
      "source": [
        "!pip install pyspark\n",
        "from pyspark import SparkContext\n",
        "\n",
        "# Detener el SparkContext existente si está en ejecución\n",
        "#if 'sc' in locals():\n",
        " #   sc.stop()\n",
        "\n",
        "# Crear un nuevo SparkContext\n",
        "sc = SparkContext(\"local\", \"CalculoMediaVector\")\n",
        "\n",
        "# Definir el vector\n",
        "vector = [3, 5, 1, 6, 9, 12, 15, 21, 5, 3, 6, 9, 8, 7, 7, 1, 13]\n",
        "\n",
        "# Paralelizar el vector\n",
        "rdd = sc.parallelize(vector)\n",
        "\n",
        "# Calcular la suma de los valores del vector y la cantidad de datos\n",
        "suma_y_cantidad = rdd.map(lambda x: (x, 1)).reduce(lambda x, y: (x[0] + y[0], x[1] + y[1]))\n",
        "\n",
        "# Calcular la media\n",
        "media = suma_y_cantidad[0] / suma_y_cantidad[1]\n",
        "\n",
        "# Imprimir la media del vector\n",
        "print(\"La media del vector es:\", media)\n",
        "\n",
        "# Detener el SparkContext\n",
        "#sc.stop()\n"
      ],
      "metadata": {
        "colab": {
          "base_uri": "https://localhost:8080/"
        },
        "id": "zzEx0Pd3H49z",
        "outputId": "8eaec867-c7df-44e1-eaa1-8c2a425645fb"
      },
      "execution_count": null,
      "outputs": [
        {
          "output_type": "stream",
          "name": "stdout",
          "text": [
            "Requirement already satisfied: pyspark in /usr/local/lib/python3.10/dist-packages (3.5.1)\n",
            "Requirement already satisfied: py4j==0.10.9.7 in /usr/local/lib/python3.10/dist-packages (from pyspark) (0.10.9.7)\n",
            "La media del vector es: 7.705882352941177\n"
          ]
        }
      ]
    },
    {
      "cell_type": "markdown",
      "source": [
        "Descargue el archivo iris.txt del siguiente link y calcule el promedio de “sepal length” para cada tipo de\n",
        "planta Iris (Setosa, Versicolar, Virginica); Haga el mismo calculo usando las variables “sepal width”,\n",
        "“petal length”, and “petal width”\n",
        "\n",
        "https://github.com/ClaudiuGeorgiu/Classification/blob/master/iris.txt"
      ],
      "metadata": {
        "id": "OjTwkC4LStaI"
      }
    },
    {
      "cell_type": "code",
      "source": [
        "!pip install pyspark\n",
        "from pyspark import SparkContext\n",
        "\n",
        "# Crear el SparkContext\n",
        "sc = SparkContext.getOrCreate()\n",
        "\n",
        "# Leer el archivo iris.txt y cargarlo en un RDD\n",
        "rdd = sc.textFile(\"/content/iris.txt\")\n",
        "\n",
        "# Función para extraer las columnas relevantes y convertirlas en una tupla\n",
        "def parse_line(line):\n",
        "    parts = line.split(',')\n",
        "    species = parts[4]\n",
        "    sepal_length = float(parts[0])\n",
        "    sepal_width = float(parts[1])\n",
        "    petal_length = float(parts[2])\n",
        "    petal_width = float(parts[3])\n",
        "    return (species, (sepal_length, sepal_width, petal_length, petal_width))\n",
        "\n",
        "# Aplicar la función de análisis de línea al RDD y eliminar el encabezado\n",
        "header = rdd.first()\n",
        "rdd = rdd.filter(lambda x: x != header).map(parse_line)\n",
        "\n",
        "# Calcular el promedio de sepal length, sepal width, petal length y petal width para cada tipo de planta\n",
        "promedio = rdd.aggregateByKey((0, 0, 0, 0),\n",
        "                               lambda x, y: (x[0] + y[0], x[1] + y[1], x[2] + y[2], x[3] + y[3]),\n",
        "                               lambda x, y: (x[0] + y[0], x[1] + y[1], x[2] + y[2], x[3] + y[3]))\n",
        "\n",
        "# Calcular el promedio dividiendo la suma de cada columna por el total de registros para cada tipo de planta\n",
        "promedio = promedio.mapValues(lambda x: (x[0] / x[1], x[1] / x[1], x[2] / x[1], x[3] / x[1]))\n",
        "\n",
        "# Mostrar los resultados\n",
        "for species, prom_values in promedio.collect():\n",
        "    print(\"Species: {}\".format(species))\n",
        "    print(\"Promedio Sepal Length: {:.2f}\".format(prom_values[0]))\n",
        "    print(\"Promedio Sepal Width: {:.2f}\".format(prom_values[1]))\n",
        "    print(\"Promedio Petal Length: {:.2f}\".format(prom_values[2]))\n",
        "    print(\"Promedio Petal Width: {:.2f}\".format(prom_values[3]))\n",
        "    print()\n"
      ],
      "metadata": {
        "id": "V88l9T07Sz_U",
        "colab": {
          "base_uri": "https://localhost:8080/"
        },
        "outputId": "13178c41-ec0a-4b8f-b71e-0d2c011e8e0a"
      },
      "execution_count": 2,
      "outputs": [
        {
          "output_type": "stream",
          "name": "stdout",
          "text": [
            "Requirement already satisfied: pyspark in /usr/local/lib/python3.10/dist-packages (3.5.1)\n",
            "Requirement already satisfied: py4j==0.10.9.7 in /usr/local/lib/python3.10/dist-packages (from pyspark) (0.10.9.7)\n",
            "Species: Iris-setosa\n",
            "Promedio Sepal Length: 1.46\n",
            "Promedio Sepal Width: 1.00\n",
            "Promedio Petal Length: 0.43\n",
            "Promedio Petal Width: 0.07\n",
            "\n",
            "Species: Iris-virginica\n",
            "Promedio Sepal Length: 2.22\n",
            "Promedio Sepal Width: 1.00\n",
            "Promedio Petal Length: 1.87\n",
            "Promedio Petal Width: 0.68\n",
            "\n",
            "Species: Iris-versicolor\n",
            "Promedio Sepal Length: 2.14\n",
            "Promedio Sepal Width: 1.00\n",
            "Promedio Petal Length: 1.54\n",
            "Promedio Petal Width: 0.48\n",
            "\n"
          ]
        }
      ]
    },
    {
      "cell_type": "markdown",
      "source": [
        "4. Descargue desde el siguiente link la Patente asociada, para ello en la pestaña de documentos\n",
        "descargue el archivo .zip:\n",
        "https://patentscope.wipo.int/search/es/detail.jsf?docId=US410558309&_cid=P11-LNP5X5-65408-1\n",
        "Cargue en un RDD el documento ocr-description.txt, use las funciones map(), flatMap(), y filter() para\n",
        "transformar línea a línea todo el documento a minúsculas, elimine caracteres especiales como comas,\n",
        "puntos, puntos y comas, comillas y cualquier signo de puntuación. Adicionalmente separe las oraciones\n",
        "en palabras individuales y filtre las palabras para que solo obtengas las que tengan más de 3 letras.\n",
        "Una vez hecha esta limpieza, cuente las palabras, ordénelas y reporte las 5 que más se repitan."
      ],
      "metadata": {
        "id": "Uy-fezRuqivx"
      }
    },
    {
      "cell_type": "code",
      "source": [
        "from pyspark import SparkContext\n",
        "\n",
        "# Crear el SparkContext\n",
        "sc = SparkContext.getOrCreate()\n",
        "\n",
        "# Cargar el archivo ocr-description.txt en un RDD\n",
        "rdd = sc.textFile(\"/content/ocr-description.txt\")\n",
        "\n",
        "# Función para limpiar y dividir las líneas en palabras\n",
        "def clean_and_split(line):\n",
        "    # Convertir a minúsculas y eliminar caracteres especiales\n",
        "    clean_line = ''.join(c for c in line.lower() if c.isalnum() or c.isspace())\n",
        "    # Dividir la línea en palabras\n",
        "    return clean_line.split()\n",
        "\n",
        "# Aplicar la limpieza y división de palabras a cada línea\n",
        "words_rdd = rdd.flatMap(clean_and_split)\n",
        "\n",
        "# Filtrar las palabras con más de 3 letras\n",
        "filtered_words_rdd = words_rdd.filter(lambda word: len(word) > 3)\n",
        "\n",
        "# Contar las palabras\n",
        "word_counts_rdd = filtered_words_rdd.map(lambda word: (word, 1)).reduceByKey(lambda x, y: x + y)\n",
        "\n",
        "# Ordenar las palabras por su conteo en orden descendente y tomar las 5 más comunes\n",
        "top_5_words = word_counts_rdd.map(lambda x: (x[1], x[0])).sortByKey(False).take(5)\n",
        "\n",
        "# Imprimir las palabras más comunes\n",
        "for count, word in top_5_words:\n",
        "    print(f\"{word}: {count}\")\n"
      ],
      "metadata": {
        "colab": {
          "base_uri": "https://localhost:8080/"
        },
        "id": "b3ZRXLT3qykj",
        "outputId": "4c152cdd-e94b-4d1e-ed18-a79b7555775d"
      },
      "execution_count": 3,
      "outputs": [
        {
          "output_type": "stream",
          "name": "stdout",
          "text": [
            "vaporization: 116\n",
            "airflow: 82\n",
            "guide: 58\n",
            "cavity: 55\n",
            "embodiments: 45\n"
          ]
        }
      ]
    },
    {
      "cell_type": "markdown",
      "source": [
        "5. Con la librería Faker simule 500000 registros de 4 variables de una red social que corresponden a id,\n",
        "nombre usuario, edad, Numero de amigos. Simule la edad como una variable normal discretizada,\n",
        "centrada en 33 años con una desviación estándar de 15 y la variable Numero de amigos como una\n",
        "variable normal discretizada centradas en 255 con una desviación estándar de 50, para garantizar\n",
        "que siempre sean positivos saque valor absoluto\n",
        "a. Simule el conjunto de datos y guárdelos en un archivo llamado num_amigos.txt\n",
        "b. Cargue los datos a una RDD para procesarlos.\n",
        "c. Calcule el número de amigos promedio por edad."
      ],
      "metadata": {
        "id": "gt0kp6JVv9JT"
      }
    },
    {
      "cell_type": "code",
      "source": [
        "!pip install faker\n",
        "!pip install pyspark\n",
        "from faker import Faker\n",
        "import numpy as np\n",
        "\n",
        "# Crear instancia de Faker\n",
        "fake = Faker()\n",
        "\n",
        "# Simular 500,000 registros de datos\n",
        "num_registros = 500000\n",
        "ids = range(1, num_registros + 1)\n",
        "nombres_usuarios = [fake.user_name() for _ in range(num_registros)]\n",
        "edades = np.abs(np.random.normal(33, 15, num_registros).astype(int))\n",
        "num_amigos = np.abs(np.random.normal(255, 50, num_registros).astype(int))\n",
        "\n",
        "# Guardar los datos en un archivo\n",
        "with open('num_amigos.txt', 'w') as file:\n",
        "    for i in range(num_registros):\n",
        "        file.write(f\"{ids[i]},{nombres_usuarios[i]},{edades[i]},{num_amigos[i]}\\n\")\n",
        "\n",
        "# Cargar los datos a una RDD (suponiendo uso de Apache Spark)\n",
        "from pyspark import SparkContext\n",
        "# Detener el SparkContext existente si está en ejecución\n",
        "if 'sc' in locals():\n",
        "    sc.stop()\n",
        "\n",
        "# Crear un nuevo SparkContext\n",
        "#sc = SparkContext(\"local\", \"CalculoMediaVector\")\n",
        "\n",
        "sc = SparkContext()\n",
        "rdd = sc.textFile('num_amigos.txt')\n",
        "\n",
        "# Calcular el número de amigos promedio por edad\n",
        "promedio_por_edad = rdd.map(lambda line: (int(line.split(',')[2]), (int(line.split(',')[3]), 1))) \\\n",
        "                       .reduceByKey(lambda x, y: (x[0] + y[0], x[1] + y[1])) \\\n",
        "                       .mapValues(lambda x: x[0] / x[1]) \\\n",
        "                       .collect()\n",
        "\n",
        "# Resultado\n",
        "for edad, promedio_amigos in promedio_por_edad:\n",
        "    print(f\"Edad: {edad}, Número de amigos promedio: {promedio_amigos}\")\n"
      ],
      "metadata": {
        "colab": {
          "base_uri": "https://localhost:8080/"
        },
        "id": "bpr9WBMzv_dY",
        "outputId": "7dea1e32-1642-4558-e0bd-5ffe13f0c8d7"
      },
      "execution_count": 8,
      "outputs": [
        {
          "output_type": "stream",
          "name": "stdout",
          "text": [
            "Requirement already satisfied: faker in /usr/local/lib/python3.10/dist-packages (24.4.0)\n",
            "Requirement already satisfied: python-dateutil>=2.4 in /usr/local/lib/python3.10/dist-packages (from faker) (2.8.2)\n",
            "Requirement already satisfied: six>=1.5 in /usr/local/lib/python3.10/dist-packages (from python-dateutil>=2.4->faker) (1.16.0)\n",
            "Requirement already satisfied: pyspark in /usr/local/lib/python3.10/dist-packages (3.5.1)\n",
            "Requirement already satisfied: py4j==0.10.9.7 in /usr/local/lib/python3.10/dist-packages (from pyspark) (0.10.9.7)\n",
            "Edad: 0, Número de amigos promedio: 254.4702928870293\n",
            "Edad: 46, Número de amigos promedio: 253.98302557632755\n",
            "Edad: 44, Número de amigos promedio: 252.9715512078259\n",
            "Edad: 40, Número de amigos promedio: 255.3187333275966\n",
            "Edad: 54, Número de amigos promedio: 255.1881188118812\n",
            "Edad: 18, Número de amigos promedio: 254.8015910710045\n",
            "Edad: 50, Número de amigos promedio: 254.16039603960397\n",
            "Edad: 36, Número de amigos promedio: 254.62390103477787\n",
            "Edad: 52, Número de amigos promedio: 254.1567297393788\n",
            "Edad: 20, Número de amigos promedio: 254.81008933263269\n",
            "Edad: 32, Número de amigos promedio: 254.52387000373554\n",
            "Edad: 6, Número de amigos promedio: 255.27944942381563\n",
            "Edad: 34, Número de amigos promedio: 254.26305857487924\n",
            "Edad: 14, Número de amigos promedio: 253.67619200513727\n",
            "Edad: 26, Número de amigos promedio: 253.31208192253695\n",
            "Edad: 42, Número de amigos promedio: 254.09543683917641\n",
            "Edad: 28, Número de amigos promedio: 254.59806410663282\n",
            "Edad: 30, Número de amigos promedio: 255.03463070793748\n",
            "Edad: 84, Número de amigos promedio: 252.16666666666666\n",
            "Edad: 12, Número de amigos promedio: 254.6057121661721\n",
            "Edad: 24, Número de amigos promedio: 254.05032481593764\n",
            "Edad: 16, Número de amigos promedio: 254.9006613392119\n",
            "Edad: 22, Número de amigos promedio: 253.38817629472467\n",
            "Edad: 8, Número de amigos promedio: 253.13829787234042\n",
            "Edad: 48, Número de amigos promedio: 253.98098564221962\n",
            "Edad: 56, Número de amigos promedio: 253.76708471973382\n",
            "Edad: 2, Número de amigos promedio: 253.9248181083266\n",
            "Edad: 68, Número de amigos promedio: 255.6509009009009\n",
            "Edad: 4, Número de amigos promedio: 254.57785714285714\n",
            "Edad: 58, Número de amigos promedio: 253.78491886732422\n",
            "Edad: 60, Número de amigos promedio: 254.09500998003992\n",
            "Edad: 64, Número de amigos promedio: 254.9967277486911\n",
            "Edad: 88, Número de amigos promedio: 246.65217391304347\n",
            "Edad: 66, Número de amigos promedio: 256.76465284039676\n",
            "Edad: 38, Número de amigos promedio: 254.23324567694638\n",
            "Edad: 62, Número de amigos promedio: 252.98107255520506\n",
            "Edad: 72, Número de amigos promedio: 255.0460358056266\n",
            "Edad: 10, Número de amigos promedio: 254.99396648044691\n",
            "Edad: 76, Número de amigos promedio: 253.45714285714286\n",
            "Edad: 70, Número de amigos promedio: 253.5219683655536\n",
            "Edad: 96, Número de amigos promedio: 207.0\n",
            "Edad: 82, Número de amigos promedio: 263.19354838709677\n",
            "Edad: 74, Número de amigos promedio: 261.21785714285716\n",
            "Edad: 78, Número de amigos promedio: 246.16030534351145\n",
            "Edad: 86, Número de amigos promedio: 263.9189189189189\n",
            "Edad: 102, Número de amigos promedio: 238.0\n",
            "Edad: 80, Número de amigos promedio: 245.79591836734693\n",
            "Edad: 92, Número de amigos promedio: 269.6\n",
            "Edad: 90, Número de amigos promedio: 284.1111111111111\n",
            "Edad: 104, Número de amigos promedio: 283.0\n",
            "Edad: 100, Número de amigos promedio: 286.0\n",
            "Edad: 94, Número de amigos promedio: 244.0\n",
            "Edad: 41, Número de amigos promedio: 254.17216981132074\n",
            "Edad: 17, Número de amigos promedio: 254.86526016049703\n",
            "Edad: 29, Número de amigos promedio: 254.37946633951847\n",
            "Edad: 35, Número de amigos promedio: 255.1503467195001\n",
            "Edad: 33, Número de amigos promedio: 254.78361297118352\n",
            "Edad: 21, Número de amigos promedio: 253.93821766080683\n",
            "Edad: 47, Número de amigos promedio: 254.4090074654265\n",
            "Edad: 27, Número de amigos promedio: 254.53419519591412\n",
            "Edad: 15, Número de amigos promedio: 254.98162349877006\n",
            "Edad: 43, Número de amigos promedio: 255.3477150156117\n",
            "Edad: 55, Número de amigos promedio: 254.90982101881596\n",
            "Edad: 25, Número de amigos promedio: 253.83810572687224\n",
            "Edad: 23, Número de amigos promedio: 254.08354172455313\n",
            "Edad: 7, Número de amigos promedio: 255.61021426474903\n",
            "Edad: 31, Número de amigos promedio: 254.46182396606574\n",
            "Edad: 11, Número de amigos promedio: 254.78979467371417\n",
            "Edad: 57, Número de amigos promedio: 255.58905275099264\n",
            "Edad: 37, Número de amigos promedio: 255.4047507788162\n",
            "Edad: 39, Número de amigos promedio: 253.69916480608617\n",
            "Edad: 19, Número de amigos promedio: 255.13796633303002\n",
            "Edad: 13, Número de amigos promedio: 254.8040175557056\n",
            "Edad: 9, Número de amigos promedio: 254.7568232112122\n",
            "Edad: 61, Número de amigos promedio: 254.18880148079592\n",
            "Edad: 53, Número de amigos promedio: 253.94584500466854\n",
            "Edad: 5, Número de amigos promedio: 254.16974789915966\n",
            "Edad: 51, Número de amigos promedio: 254.30549273021\n",
            "Edad: 45, Número de amigos promedio: 255.48087489433644\n",
            "Edad: 59, Número de amigos promedio: 254.76559746210785\n",
            "Edad: 3, Número de amigos promedio: 253.73458445040214\n",
            "Edad: 49, Número de amigos promedio: 254.088988825293\n",
            "Edad: 63, Número de amigos promedio: 252.24805272618335\n",
            "Edad: 75, Número de amigos promedio: 251.9718875502008\n",
            "Edad: 1, Número de amigos promedio: 253.85999151463724\n",
            "Edad: 73, Número de amigos promedio: 255.05649717514123\n",
            "Edad: 77, Número de amigos promedio: 251.72368421052633\n",
            "Edad: 67, Número de amigos promedio: 255.25082146768895\n",
            "Edad: 65, Número de amigos promedio: 253.10725308641975\n",
            "Edad: 71, Número de amigos promedio: 256.71176470588233\n",
            "Edad: 83, Número de amigos promedio: 250.34615384615384\n",
            "Edad: 79, Número de amigos promedio: 257.14736842105265\n",
            "Edad: 69, Número de amigos promedio: 252.53986013986014\n",
            "Edad: 85, Número de amigos promedio: 261.6\n",
            "Edad: 99, Número de amigos promedio: 289.5\n",
            "Edad: 81, Número de amigos promedio: 266.8904109589041\n",
            "Edad: 87, Número de amigos promedio: 264.89473684210526\n",
            "Edad: 89, Número de amigos promedio: 240.44444444444446\n",
            "Edad: 93, Número de amigos promedio: 276.14285714285717\n",
            "Edad: 95, Número de amigos promedio: 253.33333333333334\n",
            "Edad: 91, Número de amigos promedio: 266.8333333333333\n",
            "Edad: 97, Número de amigos promedio: 142.0\n",
            "Edad: 103, Número de amigos promedio: 223.0\n"
          ]
        }
      ]
    },
    {
      "cell_type": "code",
      "source": [],
      "metadata": {
        "id": "r_vVhTPh1FBH"
      },
      "execution_count": null,
      "outputs": []
    }
  ]
}